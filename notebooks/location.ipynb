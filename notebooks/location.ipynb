{
 "cells": [
  {
   "cell_type": "markdown",
   "id": "4ea15fac-4df1-485e-b936-fd933c52f54c",
   "metadata": {},
   "source": [
    "## Live location data"
   ]
  },
  {
   "cell_type": "markdown",
   "id": "5e9a9077-3dca-4226-93c6-c42e32c3cf8b",
   "metadata": {},
   "source": [
    "- Python bods: https://github.com/ciaranmccormick/python-bods-client"
   ]
  },
  {
   "cell_type": "markdown",
   "id": "6dc84aa1-cddc-46ca-b8ae-11c9673f8398",
   "metadata": {},
   "source": [
    "## Imports"
   ]
  },
  {
   "cell_type": "code",
   "execution_count": 1,
   "id": "f7f84c42-1c18-4a6a-8550-2fce90dfe2ac",
   "metadata": {},
   "outputs": [],
   "source": [
    "import os\n",
    "from datetime import datetime\n",
    "\n",
    "from bods_client.client import BODSClient\n",
    "from bods_client.models import BoundingBox, GTFSRTParams\n",
    "from dotenv import load_dotenv"
   ]
  },
  {
   "cell_type": "code",
   "execution_count": 2,
   "id": "ab575d84-2cc8-46ae-930a-8da090ff133e",
   "metadata": {},
   "outputs": [
    {
     "data": {
      "text/plain": [
       "True"
      ]
     },
     "execution_count": 2,
     "metadata": {},
     "output_type": "execute_result"
    }
   ],
   "source": [
    "load_dotenv()"
   ]
  },
  {
   "cell_type": "markdown",
   "id": "7566d9d1-62cd-4f3f-b9f5-cee689b5b910",
   "metadata": {},
   "source": [
    "## Set up client"
   ]
  },
  {
   "cell_type": "code",
   "execution_count": 3,
   "id": "bd80c021-7a49-474b-8013-18ec2c3a687b",
   "metadata": {},
   "outputs": [],
   "source": [
    "api_key = os.environ[\"API_KEY\"]"
   ]
  },
  {
   "cell_type": "code",
   "execution_count": 4,
   "id": "b7f07343-636e-4d1d-9f4f-c0e73070dea6",
   "metadata": {},
   "outputs": [],
   "source": [
    "bods = BODSClient(api_key=api_key)"
   ]
  },
  {
   "cell_type": "markdown",
   "id": "ba25f796-663c-420f-b6d5-52b1c294508f",
   "metadata": {},
   "source": [
    "## Get data!"
   ]
  },
  {
   "cell_type": "code",
   "execution_count": 5,
   "id": "afc25980-a75e-4940-9009-cb09037ea5d3",
   "metadata": {},
   "outputs": [
    {
     "data": {
      "text/plain": [
       "(1,\n",
       " [id: \"15671302897479048672\"\n",
       " vehicle {\n",
       "   trip {\n",
       "     trip_id: \"VJ6955b9818a4e0e4880e89e513a4e097e7e4f53c8\"\n",
       "     start_time: \"08:10:00\"\n",
       "     start_date: \"20221015\"\n",
       "     schedule_relationship: SCHEDULED\n",
       "     route_id: \"50065\"\n",
       "   }\n",
       "   position {\n",
       "     latitude: 51.728538513183594\n",
       "     longitude: -1.2163710594177246\n",
       "     bearing: 276.0\n",
       "   }\n",
       "   current_stop_sequence: 15\n",
       "   current_status: IN_TRANSIT_TO\n",
       "   timestamp: 1665822800\n",
       "   vehicle {\n",
       "     id: \"311\"\n",
       "   }\n",
       "   occupancy_status: MANY_SEATS_AVAILABLE\n",
       " }\n",
       " ])"
      ]
     },
     "execution_count": 5,
     "metadata": {},
     "output_type": "execute_result"
    }
   ],
   "source": [
    "# OXBC 5A\n",
    "params = GTFSRTParams(route_id=\"50065\")\n",
    "message = bods.get_gtfs_rt_data_feed(params=params)\n",
    "len(message.entity), message.entity"
   ]
  },
  {
   "cell_type": "code",
   "execution_count": 6,
   "id": "96a499a6-f7ec-412a-a265-8a645f55112b",
   "metadata": {},
   "outputs": [
    {
     "data": {
      "text/plain": [
       "trip_id: \"VJ6955b9818a4e0e4880e89e513a4e097e7e4f53c8\"\n",
       "start_time: \"08:10:00\"\n",
       "start_date: \"20221015\"\n",
       "schedule_relationship: SCHEDULED\n",
       "route_id: \"50065\""
      ]
     },
     "execution_count": 6,
     "metadata": {},
     "output_type": "execute_result"
    }
   ],
   "source": [
    "message.entity[0].vehicle.trip"
   ]
  },
  {
   "cell_type": "code",
   "execution_count": 7,
   "id": "9c9e33b4-f5fd-49ce-bc55-9ff8581cd5a2",
   "metadata": {},
   "outputs": [
    {
     "data": {
      "text/plain": [
       "(7,\n",
       " [id: \"3744969683814099498\"\n",
       " vehicle {\n",
       "   trip {\n",
       "     trip_id: \"VJ34cb93dfc56cd5c7988c3d82e65bae84a291dcfc\"\n",
       "     start_time: \"07:53:00\"\n",
       "     start_date: \"20221015\"\n",
       "     schedule_relationship: SCHEDULED\n",
       "     route_id: \"14187\"\n",
       "   }\n",
       "   position {\n",
       "     latitude: 51.74985122680664\n",
       "     longitude: -1.2633850574493408\n",
       "     bearing: 49.0\n",
       "   }\n",
       "   current_stop_sequence: 32\n",
       "   current_status: IN_TRANSIT_TO\n",
       "   timestamp: 1665822787\n",
       "   vehicle {\n",
       "     id: \"651\"\n",
       "   }\n",
       "   occupancy_status: MANY_SEATS_AVAILABLE\n",
       " }\n",
       " , id: \"2295005572501590065\"\n",
       " vehicle {\n",
       "   trip {\n",
       "     trip_id: \"VJ80b277c0495ee6eb2021e1f44410a68a1f689de3\"\n",
       "     start_time: \"08:00:00\"\n",
       "     start_date: \"20221015\"\n",
       "     schedule_relationship: SCHEDULED\n",
       "     route_id: \"14187\"\n",
       "   }\n",
       "   position {\n",
       "     latitude: 51.73677444458008\n",
       "     longitude: -1.2176129817962646\n",
       "     bearing: 135.0\n",
       "   }\n",
       "   current_stop_sequence: 13\n",
       "   current_status: IN_TRANSIT_TO\n",
       "   timestamp: 1665822792\n",
       "   vehicle {\n",
       "     id: \"654\"\n",
       "   }\n",
       "   occupancy_status: MANY_SEATS_AVAILABLE\n",
       " }\n",
       " , id: \"17146503509221183331\"\n",
       " vehicle {\n",
       "   trip {\n",
       "     trip_id: \"VJ42ae11cc02eedf26dd5e376ab1f420f3999aaf63\"\n",
       "     start_time: \"08:10:00\"\n",
       "     start_date: \"20221015\"\n",
       "     schedule_relationship: SCHEDULED\n",
       "     route_id: \"14187\"\n",
       "   }\n",
       "   position {\n",
       "     latitude: 51.752769470214844\n",
       "     longitude: -1.2522729635238647\n",
       "     bearing: 86.0\n",
       "   }\n",
       "   current_stop_sequence: 5\n",
       "   current_status: IN_TRANSIT_TO\n",
       "   timestamp: 1665822782\n",
       "   vehicle {\n",
       "     id: \"655\"\n",
       "   }\n",
       "   occupancy_status: MANY_SEATS_AVAILABLE\n",
       " }\n",
       " , id: \"9026944403698731408\"\n",
       " vehicle {\n",
       "   trip {\n",
       "     trip_id: \"VJdf64b064a6a7fe4fcd1855a0b34c047d5f966c13\"\n",
       "     start_time: \"08:29:00\"\n",
       "     start_date: \"20221015\"\n",
       "     schedule_relationship: SCHEDULED\n",
       "     route_id: \"14187\"\n",
       "   }\n",
       "   position {\n",
       "     latitude: 51.75341033935547\n",
       "     longitude: -1.2696130275726318\n",
       "     bearing: 359.0\n",
       "   }\n",
       "   current_stop_sequence: 0\n",
       "   current_status: STOPPED_AT\n",
       "   timestamp: 1665822792\n",
       "   vehicle {\n",
       "     id: \"658\"\n",
       "   }\n",
       "   occupancy_status: MANY_SEATS_AVAILABLE\n",
       " }\n",
       " , id: \"6192239832997238448\"\n",
       " vehicle {\n",
       "   trip {\n",
       "     trip_id: \"VJeca9236e5ce675d5eee2ae9121cb7c02bc08b758\"\n",
       "     start_time: \"08:20:00\"\n",
       "     start_date: \"20221015\"\n",
       "     schedule_relationship: SCHEDULED\n",
       "     route_id: \"14187\"\n",
       "   }\n",
       "   position {\n",
       "     latitude: 54.759666442871094\n",
       "     longitude: -1.336068034172058\n",
       "     bearing: 359.0\n",
       "   }\n",
       "   current_stop_sequence: 5\n",
       "   current_status: IN_TRANSIT_TO\n",
       "   timestamp: 1665822782\n",
       "   vehicle {\n",
       "     id: \"657\"\n",
       "   }\n",
       " }\n",
       " , id: \"14779079155845195298\"\n",
       " vehicle {\n",
       "   trip {\n",
       "     trip_id: \"VJe92c48473ed14a1223dcfd2d135d6b33ee9621f7\"\n",
       "     start_time: \"08:09:00\"\n",
       "     start_date: \"20221015\"\n",
       "     schedule_relationship: SCHEDULED\n",
       "     route_id: \"14187\"\n",
       "   }\n",
       "   position {\n",
       "     latitude: 51.73260498046875\n",
       "     longitude: -1.2145229578018188\n",
       "     bearing: 0.0\n",
       "   }\n",
       "   current_stop_sequence: 19\n",
       "   current_status: IN_TRANSIT_TO\n",
       "   timestamp: 1665822789\n",
       "   vehicle {\n",
       "     id: \"659\"\n",
       "   }\n",
       "   occupancy_status: MANY_SEATS_AVAILABLE\n",
       " }\n",
       " , id: \"3393615317006525338\"\n",
       " vehicle {\n",
       "   trip {\n",
       "     trip_id: \"VJ3f787b1d9f1a45c8fed8e27c0f52f596f13d3688\"\n",
       "     start_time: \"08:19:00\"\n",
       "     start_date: \"20221015\"\n",
       "     schedule_relationship: SCHEDULED\n",
       "     route_id: \"14187\"\n",
       "   }\n",
       "   position {\n",
       "     latitude: 51.75284957885742\n",
       "     longitude: -1.2643049955368042\n",
       "     bearing: 81.0\n",
       "   }\n",
       "   current_stop_sequence: 2\n",
       "   current_status: IN_TRANSIT_TO\n",
       "   timestamp: 1665822781\n",
       "   vehicle {\n",
       "     id: \"652\"\n",
       "   }\n",
       "   occupancy_status: MANY_SEATS_AVAILABLE\n",
       " }\n",
       " ])"
      ]
     },
     "execution_count": 7,
     "metadata": {},
     "output_type": "execute_result"
    }
   ],
   "source": [
    "# OXBC 5\n",
    "params = GTFSRTParams(route_id=\"14187\")\n",
    "message = bods.get_gtfs_rt_data_feed(params=params)\n",
    "len(message.entity), message.entity"
   ]
  },
  {
   "cell_type": "code",
   "execution_count": 8,
   "id": "5d381276-6796-444e-ae7f-e11c87de8005",
   "metadata": {},
   "outputs": [
    {
     "data": {
      "text/plain": [
       "(8,\n",
       " id: \"11112882734452251887\"\n",
       " vehicle {\n",
       "   trip {\n",
       "     trip_id: \"VJ7c0363fe4691ab493cc0cbef0b8ad17071dc2e61\"\n",
       "     start_time: \"07:50:00\"\n",
       "     start_date: \"20221015\"\n",
       "     schedule_relationship: SCHEDULED\n",
       "     route_id: \"4824\"\n",
       "   }\n",
       "   position {\n",
       "     latitude: 51.7410774230957\n",
       "     longitude: -1.2248077392578125\n",
       "     bearing: 306.0\n",
       "   }\n",
       "   current_stop_sequence: 27\n",
       "   current_status: IN_TRANSIT_TO\n",
       "   timestamp: 1665822787\n",
       "   vehicle {\n",
       "     id: \"SCOX-12006\"\n",
       "   }\n",
       " })"
      ]
     },
     "execution_count": 8,
     "metadata": {},
     "output_type": "execute_result"
    }
   ],
   "source": [
    "# SCOX 10\n",
    "params = GTFSRTParams(route_id=\"4824\")\n",
    "message = bods.get_gtfs_rt_data_feed(params=params)\n",
    "len(message.entity), message.entity[0]"
   ]
  },
  {
   "cell_type": "code",
   "execution_count": 9,
   "id": "8f8c8c1a-5e6a-44df-9167-de289960d560",
   "metadata": {},
   "outputs": [
    {
     "data": {
      "text/plain": [
       "(7,\n",
       " id: \"2432732821390477040\"\n",
       " vehicle {\n",
       "   trip {\n",
       "     trip_id: \"VJc5f8c90eef7b4f79dfebbe2e606f7ea5816b9b35\"\n",
       "     start_time: \"08:24:00\"\n",
       "     start_date: \"20221015\"\n",
       "     schedule_relationship: SCHEDULED\n",
       "     route_id: \"3815\"\n",
       "   }\n",
       "   position {\n",
       "     latitude: 51.75031661987305\n",
       "     longitude: -1.2567908763885498\n",
       "     bearing: 6.0\n",
       "   }\n",
       "   current_stop_sequence: 4\n",
       "   current_status: IN_TRANSIT_TO\n",
       "   timestamp: 1665822788\n",
       "   vehicle {\n",
       "     id: \"SCOX-10436\"\n",
       "   }\n",
       " })"
      ]
     },
     "execution_count": 9,
     "metadata": {},
     "output_type": "execute_result"
    }
   ],
   "source": [
    "# SCOX 1\n",
    "params = GTFSRTParams(route_id=\"3815\")\n",
    "message = bods.get_gtfs_rt_data_feed(params=params)\n",
    "len(message.entity), message.entity[0]"
   ]
  }
 ],
 "metadata": {
  "kernelspec": {
   "display_name": "bus",
   "language": "python",
   "name": "bus"
  },
  "language_info": {
   "codemirror_mode": {
    "name": "ipython",
    "version": 3
   },
   "file_extension": ".py",
   "mimetype": "text/x-python",
   "name": "python",
   "nbconvert_exporter": "python",
   "pygments_lexer": "ipython3",
   "version": "3.9.13"
  }
 },
 "nbformat": 4,
 "nbformat_minor": 5
}
