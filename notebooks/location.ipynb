{
 "cells": [
  {
   "cell_type": "markdown",
   "id": "4ea15fac-4df1-485e-b936-fd933c52f54c",
   "metadata": {},
   "source": [
    "## Live location data"
   ]
  },
  {
   "cell_type": "markdown",
   "id": "5e9a9077-3dca-4226-93c6-c42e32c3cf8b",
   "metadata": {},
   "source": [
    "- Python bods: https://github.com/ciaranmccormick/python-bods-client"
   ]
  },
  {
   "cell_type": "markdown",
   "id": "6dc84aa1-cddc-46ca-b8ae-11c9673f8398",
   "metadata": {},
   "source": [
    "## Imports"
   ]
  },
  {
   "cell_type": "code",
   "execution_count": 1,
   "id": "f7f84c42-1c18-4a6a-8550-2fce90dfe2ac",
   "metadata": {},
   "outputs": [],
   "source": [
    "import os\n",
    "from datetime import datetime\n",
    "\n",
    "from bods_client.client import BODSClient\n",
    "from bods_client.models import BoundingBox, GTFSRTParams\n",
    "from dotenv import load_dotenv"
   ]
  },
  {
   "cell_type": "code",
   "execution_count": 2,
   "id": "ab575d84-2cc8-46ae-930a-8da090ff133e",
   "metadata": {},
   "outputs": [
    {
     "data": {
      "text/plain": [
       "True"
      ]
     },
     "execution_count": 2,
     "metadata": {},
     "output_type": "execute_result"
    }
   ],
   "source": [
    "load_dotenv()"
   ]
  },
  {
   "cell_type": "markdown",
   "id": "7566d9d1-62cd-4f3f-b9f5-cee689b5b910",
   "metadata": {},
   "source": [
    "## Set up client"
   ]
  },
  {
   "cell_type": "code",
   "execution_count": 3,
   "id": "bd80c021-7a49-474b-8013-18ec2c3a687b",
   "metadata": {},
   "outputs": [],
   "source": [
    "api_key = os.environ[\"API_KEY\"]"
   ]
  },
  {
   "cell_type": "code",
   "execution_count": 4,
   "id": "b7f07343-636e-4d1d-9f4f-c0e73070dea6",
   "metadata": {},
   "outputs": [],
   "source": [
    "bods = BODSClient(api_key=api_key)"
   ]
  },
  {
   "cell_type": "markdown",
   "id": "ba25f796-663c-420f-b6d5-52b1c294508f",
   "metadata": {},
   "source": [
    "## Get data!"
   ]
  },
  {
   "cell_type": "code",
   "execution_count": 5,
   "id": "afc25980-a75e-4940-9009-cb09037ea5d3",
   "metadata": {},
   "outputs": [
    {
     "data": {
      "text/plain": [
       "(2,\n",
       " id: \"13763630073698663407\"\n",
       " vehicle {\n",
       "   trip {\n",
       "     trip_id: \"VJ291231b807be2c6e95cc6c77d62e925d3880d414\"\n",
       "     start_time: \"15:25:00\"\n",
       "     start_date: \"20221015\"\n",
       "     schedule_relationship: SCHEDULED\n",
       "     route_id: \"50065\"\n",
       "   }\n",
       "   position {\n",
       "     latitude: 51.72945022583008\n",
       "     longitude: -1.2116329669952393\n",
       "     bearing: 359.0\n",
       "   }\n",
       "   current_stop_sequence: 13\n",
       "   current_status: IN_TRANSIT_TO\n",
       "   timestamp: 1665848171\n",
       "   vehicle {\n",
       "     id: \"300\"\n",
       "   }\n",
       "   occupancy_status: MANY_SEATS_AVAILABLE\n",
       " })"
      ]
     },
     "execution_count": 5,
     "metadata": {},
     "output_type": "execute_result"
    }
   ],
   "source": [
    "# OXBC 5A\n",
    "params = GTFSRTParams(route_id=\"50065\")\n",
    "message = bods.get_gtfs_rt_data_feed(params=params)\n",
    "len(message.entity), message.entity[0]"
   ]
  },
  {
   "cell_type": "code",
   "execution_count": 6,
   "id": "96a499a6-f7ec-412a-a265-8a645f55112b",
   "metadata": {},
   "outputs": [
    {
     "data": {
      "text/plain": [
       "trip_id: \"VJ291231b807be2c6e95cc6c77d62e925d3880d414\"\n",
       "start_time: \"15:25:00\"\n",
       "start_date: \"20221015\"\n",
       "schedule_relationship: SCHEDULED\n",
       "route_id: \"50065\""
      ]
     },
     "execution_count": 6,
     "metadata": {},
     "output_type": "execute_result"
    }
   ],
   "source": [
    "message.entity[0].vehicle.trip"
   ]
  },
  {
   "cell_type": "code",
   "execution_count": 7,
   "id": "9c9e33b4-f5fd-49ce-bc55-9ff8581cd5a2",
   "metadata": {},
   "outputs": [
    {
     "data": {
      "text/plain": [
       "(3,\n",
       " id: \"2295005572501590065\"\n",
       " vehicle {\n",
       "   trip {\n",
       "     trip_id: \"VJ27073200186328e2f3361ed22d52348550e772e2\"\n",
       "     start_time: \"14:53:00\"\n",
       "     start_date: \"20221015\"\n",
       "     schedule_relationship: SCHEDULED\n",
       "     route_id: \"14187\"\n",
       "   }\n",
       "   position {\n",
       "     latitude: 51.75275421142578\n",
       "     longitude: -1.2634810209274292\n",
       "     bearing: 287.0\n",
       "   }\n",
       "   current_stop_sequence: 33\n",
       "   current_status: IN_TRANSIT_TO\n",
       "   timestamp: 1665848168\n",
       "   vehicle {\n",
       "     id: \"654\"\n",
       "   }\n",
       "   occupancy_status: MANY_SEATS_AVAILABLE\n",
       " })"
      ]
     },
     "execution_count": 7,
     "metadata": {},
     "output_type": "execute_result"
    }
   ],
   "source": [
    "# OXBC 5\n",
    "params = GTFSRTParams(route_id=\"14187\")\n",
    "message = bods.get_gtfs_rt_data_feed(params=params)\n",
    "len(message.entity), message.entity[0]"
   ]
  },
  {
   "cell_type": "code",
   "execution_count": 8,
   "id": "2c212b52-369d-48bf-b8e3-974bf2065cb9",
   "metadata": {},
   "outputs": [
    {
     "data": {
      "text/plain": [
       "423"
      ]
     },
     "execution_count": 8,
     "metadata": {},
     "output_type": "execute_result"
    }
   ],
   "source": [
    "message.ByteSize()"
   ]
  },
  {
   "cell_type": "code",
   "execution_count": 9,
   "id": "5d381276-6796-444e-ae7f-e11c87de8005",
   "metadata": {},
   "outputs": [
    {
     "data": {
      "text/plain": [
       "(10, '2588383118819005104')"
      ]
     },
     "execution_count": 9,
     "metadata": {},
     "output_type": "execute_result"
    }
   ],
   "source": [
    "# SCOX 10\n",
    "params = GTFSRTParams(route_id=\"4824\")\n",
    "message = bods.get_gtfs_rt_data_feed(params=params)\n",
    "len(message.entity), message.entity[0].id"
   ]
  },
  {
   "cell_type": "code",
   "execution_count": 10,
   "id": "9c509062-3f05-4d15-90a7-df823bf6bd1f",
   "metadata": {},
   "outputs": [
    {
     "data": {
      "text/plain": [
       "datetime.datetime(2022, 10, 15, 16, 35, 58)"
      ]
     },
     "execution_count": 10,
     "metadata": {},
     "output_type": "execute_result"
    }
   ],
   "source": [
    "datetime.fromtimestamp(message.entity[0].vehicle.timestamp)"
   ]
  },
  {
   "cell_type": "code",
   "execution_count": 11,
   "id": "8f8c8c1a-5e6a-44df-9167-de289960d560",
   "metadata": {},
   "outputs": [
    {
     "data": {
      "text/plain": [
       "(8,\n",
       " id: \"9393660296727820281\"\n",
       " vehicle {\n",
       "   trip {\n",
       "     trip_id: \"VJd226aba1f470c431e4e236f02f5ffb6c003ea6ae\"\n",
       "     start_time: \"14:54:00\"\n",
       "     start_date: \"20221015\"\n",
       "     schedule_relationship: SCHEDULED\n",
       "     route_id: \"3815\"\n",
       "   }\n",
       "   position {\n",
       "     latitude: 51.73225021362305\n",
       "     longitude: -1.2145508527755737\n",
       "     bearing: 246.0\n",
       "   }\n",
       "   current_stop_sequence: 15\n",
       "   current_status: IN_TRANSIT_TO\n",
       "   timestamp: 1665848164\n",
       "   vehicle {\n",
       "     id: \"SCOX-10670\"\n",
       "   }\n",
       " })"
      ]
     },
     "execution_count": 11,
     "metadata": {},
     "output_type": "execute_result"
    }
   ],
   "source": [
    "# SCOX 1\n",
    "params = GTFSRTParams(route_id=\"3815\")\n",
    "message = bods.get_gtfs_rt_data_feed(params=params)\n",
    "len(message.entity), message.entity[0]"
   ]
  },
  {
   "cell_type": "code",
   "execution_count": 12,
   "id": "4e4a7e88-b435-40d3-a9bd-f3d40e4ce71e",
   "metadata": {},
   "outputs": [
    {
     "data": {
      "text/plain": [
       "'2022-10-15T15:36:04'"
      ]
     },
     "execution_count": 12,
     "metadata": {},
     "output_type": "execute_result"
    }
   ],
   "source": [
    "datetime.utcfromtimestamp(message.entity[0].vehicle.timestamp).isoformat()"
   ]
  },
  {
   "cell_type": "code",
   "execution_count": null,
   "id": "99d5c464-7ee9-45cc-9409-063b9902627e",
   "metadata": {},
   "outputs": [],
   "source": []
  }
 ],
 "metadata": {
  "kernelspec": {
   "display_name": "bus",
   "language": "python",
   "name": "bus"
  },
  "language_info": {
   "codemirror_mode": {
    "name": "ipython",
    "version": 3
   },
   "file_extension": ".py",
   "mimetype": "text/x-python",
   "name": "python",
   "nbconvert_exporter": "python",
   "pygments_lexer": "ipython3",
   "version": "3.9.13"
  }
 },
 "nbformat": 4,
 "nbformat_minor": 5
}
