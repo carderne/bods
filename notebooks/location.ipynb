{
 "cells": [
  {
   "cell_type": "markdown",
   "id": "4ea15fac-4df1-485e-b936-fd933c52f54c",
   "metadata": {},
   "source": [
    "## Live location data"
   ]
  },
  {
   "cell_type": "markdown",
   "id": "5e9a9077-3dca-4226-93c6-c42e32c3cf8b",
   "metadata": {},
   "source": [
    "- Python bods: https://github.com/ciaranmccormick/python-bods-client"
   ]
  },
  {
   "cell_type": "markdown",
   "id": "6dc84aa1-cddc-46ca-b8ae-11c9673f8398",
   "metadata": {},
   "source": [
    "## Imports"
   ]
  },
  {
   "cell_type": "code",
   "execution_count": null,
   "id": "f7f84c42-1c18-4a6a-8550-2fce90dfe2ac",
   "metadata": {},
   "outputs": [],
   "source": [
    "import os\n",
    "from datetime import datetime\n",
    "\n",
    "from bods_client.client import BODSClient\n",
    "from bods_client.models import BoundingBox, GTFSRTParams\n",
    "from dotenv import load_dotenv"
   ]
  },
  {
   "cell_type": "code",
   "execution_count": null,
   "id": "ab575d84-2cc8-46ae-930a-8da090ff133e",
   "metadata": {},
   "outputs": [],
   "source": [
    "load_dotenv()"
   ]
  },
  {
   "cell_type": "markdown",
   "id": "7566d9d1-62cd-4f3f-b9f5-cee689b5b910",
   "metadata": {},
   "source": [
    "## Set up client"
   ]
  },
  {
   "cell_type": "code",
   "execution_count": null,
   "id": "bd80c021-7a49-474b-8013-18ec2c3a687b",
   "metadata": {},
   "outputs": [],
   "source": [
    "api_key = os.environ[\"API_KEY\"]"
   ]
  },
  {
   "cell_type": "code",
   "execution_count": null,
   "id": "b7f07343-636e-4d1d-9f4f-c0e73070dea6",
   "metadata": {},
   "outputs": [],
   "source": [
    "bods = BODSClient(api_key=api_key)"
   ]
  },
  {
   "cell_type": "markdown",
   "id": "ba25f796-663c-420f-b6d5-52b1c294508f",
   "metadata": {},
   "source": [
    "## Get data!"
   ]
  },
  {
   "cell_type": "code",
   "execution_count": null,
   "id": "f2255226-5ef7-44e3-95d0-a06738ce0099",
   "metadata": {},
   "outputs": [],
   "source": [
    "rids = {\n",
    "    \"1\": \"3815\",\n",
    "    \"10\": \"4824\",\n",
    "    \"5\": \"14187\",\n",
    "    \"5A\": \"50065\",\n",
    "}"
   ]
  },
  {
   "cell_type": "code",
   "execution_count": null,
   "id": "625b08f5-0a41-470a-9ed8-4616eedb072b",
   "metadata": {},
   "outputs": [],
   "source": [
    "for route, rid in rids.items():\n",
    "    params = GTFSRTParams(route_id=rid)\n",
    "    message = bods.get_gtfs_rt_data_feed(params=params)\n",
    "    print(f\"{route=}\\t{rid=}\\t{len(message.entity)=}\")\n",
    "    print(message.entity[0])"
   ]
  },
  {
   "cell_type": "code",
   "execution_count": null,
   "id": "2c212b52-369d-48bf-b8e3-974bf2065cb9",
   "metadata": {},
   "outputs": [],
   "source": [
    "message.ByteSize()"
   ]
  },
  {
   "cell_type": "code",
   "execution_count": null,
   "id": "99d5c464-7ee9-45cc-9409-063b9902627e",
   "metadata": {},
   "outputs": [],
   "source": []
  }
 ],
 "metadata": {
  "kernelspec": {
   "display_name": "bus",
   "language": "python",
   "name": "bus"
  },
  "language_info": {
   "codemirror_mode": {
    "name": "ipython",
    "version": 3
   },
   "file_extension": ".py",
   "mimetype": "text/x-python",
   "name": "python",
   "nbconvert_exporter": "python",
   "pygments_lexer": "ipython3",
   "version": "3.9.13"
  }
 },
 "nbformat": 4,
 "nbformat_minor": 5
}
