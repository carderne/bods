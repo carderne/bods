{
 "cells": [
  {
   "cell_type": "code",
   "execution_count": null,
   "id": "4b27c0e3-5461-4088-b59d-092185a78ee3",
   "metadata": {},
   "outputs": [],
   "source": [
    "import warnings\n",
    "\n",
    "import gtfs_kit as gk"
   ]
  },
  {
   "cell_type": "code",
   "execution_count": null,
   "id": "7337448d-56b0-4ca0-9a6c-38a3a699a9c2",
   "metadata": {},
   "outputs": [],
   "source": [
    "where = \"all\"\n",
    "sched_path = f\"../data/itm_{where}_gtfs.zip\""
   ]
  },
  {
   "cell_type": "code",
   "execution_count": null,
   "id": "af940cf9-1f70-4072-a84f-2dca106f0d75",
   "metadata": {},
   "outputs": [],
   "source": [
    "with warnings.catch_warnings():\n",
    "    warnings.simplefilter(\"ignore\")\n",
    "    fd = gk.read_feed(sched_path, dist_units=\"mi\")"
   ]
  },
  {
   "cell_type": "code",
   "execution_count": null,
   "id": "bcdb1381-928c-4c03-8bad-d8e42c28a0c6",
   "metadata": {},
   "outputs": [],
   "source": [
    "with warnings.catch_warnings():\n",
    "    warnings.simplefilter(\"ignore\")\n",
    "    trips = gk.trips.geometrize_trips(fd)"
   ]
  },
  {
   "cell_type": "code",
   "execution_count": null,
   "id": "44ac4618-3add-4ade-8e4f-ac262768619f",
   "metadata": {},
   "outputs": [],
   "source": [
    "trips = trips.drop_duplicates(subset=\"shape_id\").join(\n",
    "    trips.groupby(\"shape_id\")[\"trip_id\"].count(), on=\"shape_id\", rsuffix=\"count_\"\n",
    ")\n",
    "# trips.to_file(\"../data/trips.gpkg\")"
   ]
  },
  {
   "cell_type": "code",
   "execution_count": null,
   "id": "cf8ac001-0d41-47f4-84df-af91a4bd1bbe",
   "metadata": {},
   "outputs": [],
   "source": []
  }
 ],
 "metadata": {
  "kernelspec": {
   "display_name": "bus",
   "language": "python",
   "name": "bus"
  },
  "language_info": {
   "codemirror_mode": {
    "name": "ipython",
    "version": 3
   },
   "file_extension": ".py",
   "mimetype": "text/x-python",
   "name": "python",
   "nbconvert_exporter": "python",
   "pygments_lexer": "ipython3",
   "version": "3.9.13"
  }
 },
 "nbformat": 4,
 "nbformat_minor": 5
}
