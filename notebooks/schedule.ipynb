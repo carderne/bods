{
 "cells": [
  {
   "cell_type": "markdown",
   "id": "d74f2f1d-65ac-4a67-a7fa-0801b4610b05",
   "metadata": {
    "tags": []
   },
   "source": [
    "# GTFS Schedule\n",
    "- Data: https://data.bus-data.dft.gov.uk/timetable/download/\n",
    "- gtfs-kit: https://gitlab.com/mrcagney/gtfs_kit\n",
    "- examples: https://gitlab.com/mrcagney/gtfs_kit/-/blob/master/notebooks/examples.ipynb\n",
    "- docs:https://mrcagney.gitlab.io/gtfs_kit_docs/"
   ]
  },
  {
   "cell_type": "markdown",
   "id": "07fb4147-b6c2-4f72-b883-3644183d55ee",
   "metadata": {
    "tags": []
   },
   "source": [
    "## Imports"
   ]
  },
  {
   "cell_type": "code",
   "execution_count": 1,
   "id": "f7216ee1-a2ab-422f-ad6c-fbedd4dc1f11",
   "metadata": {},
   "outputs": [],
   "source": [
    "import warnings\n",
    "\n",
    "import gtfs_kit as gk\n",
    "import pandas as pd\n",
    "import seaborn as sns"
   ]
  },
  {
   "cell_type": "code",
   "execution_count": 2,
   "id": "f346d069-914f-4f54-999f-f142565db6b5",
   "metadata": {},
   "outputs": [],
   "source": [
    "warnings.filterwarnings(\"ignore\")"
   ]
  },
  {
   "cell_type": "markdown",
   "id": "969eae9d-93c9-41df-b534-8c93da1c1403",
   "metadata": {},
   "source": [
    "## General"
   ]
  },
  {
   "cell_type": "code",
   "execution_count": 3,
   "id": "7df4a03f-5c9d-48df-84c0-06afbed487ff",
   "metadata": {},
   "outputs": [],
   "source": [
    "rids = {\n",
    "    \"1\": \"3815\",\n",
    "    \"10\": \"4824\",\n",
    "    \"5\": \"14187\",\n",
    "    \"5A\": \"50065\",\n",
    "}\n",
    "rids = {v:k for k, v in rids.items()}"
   ]
  },
  {
   "cell_type": "markdown",
   "id": "cc2866e1-ad04-4661-b05b-8a1ede5a7f70",
   "metadata": {},
   "source": [
    "## Load data and filter"
   ]
  },
  {
   "cell_type": "markdown",
   "id": "e1ce9ae0-5376-4877-92fd-7b4c4bc2411b",
   "metadata": {},
   "source": [
    "Download one of the files from the bottom of the page here:\n",
    "\n",
    "https://data.bus-data.dft.gov.uk/timetable/download/"
   ]
  },
  {
   "cell_type": "code",
   "execution_count": 4,
   "id": "c21e26b0-eccd-4d57-a697-535727217f48",
   "metadata": {},
   "outputs": [],
   "source": [
    "path = \"../data/itm_south_east_gtfs.zip\"\n",
    "feed = gk.read_feed(path, dist_units=\"mi\")\n",
    "# feed.validate()"
   ]
  },
  {
   "cell_type": "code",
   "execution_count": 5,
   "id": "b91a273f-25b9-49a5-b69a-8b47087463b8",
   "metadata": {},
   "outputs": [],
   "source": [
    "agencies = [\n",
    "    \"OP376\",  # oxford bus company\n",
    "    \"OP83\",  # stagecoach oxfordshire\n",
    "]\n",
    "routes = [\"5\", \"5A\", \"1\", \"10\"]"
   ]
  },
  {
   "cell_type": "code",
   "execution_count": 6,
   "id": "7f6e3ccd-23c5-495c-9d6c-241bae874ee7",
   "metadata": {},
   "outputs": [
    {
     "data": {
      "text/html": [
       "<div>\n",
       "<style scoped>\n",
       "    .dataframe tbody tr th:only-of-type {\n",
       "        vertical-align: middle;\n",
       "    }\n",
       "\n",
       "    .dataframe tbody tr th {\n",
       "        vertical-align: top;\n",
       "    }\n",
       "\n",
       "    .dataframe thead th {\n",
       "        text-align: right;\n",
       "    }\n",
       "</style>\n",
       "<table border=\"1\" class=\"dataframe\">\n",
       "  <thead>\n",
       "    <tr style=\"text-align: right;\">\n",
       "      <th></th>\n",
       "      <th>route_id</th>\n",
       "      <th>agency_id</th>\n",
       "      <th>route_short_name</th>\n",
       "      <th>route_long_name</th>\n",
       "      <th>route_type</th>\n",
       "    </tr>\n",
       "  </thead>\n",
       "  <tbody>\n",
       "    <tr>\n",
       "      <th>568</th>\n",
       "      <td>50065</td>\n",
       "      <td>OP376</td>\n",
       "      <td>5A</td>\n",
       "      <td>NaN</td>\n",
       "      <td>3</td>\n",
       "    </tr>\n",
       "    <tr>\n",
       "      <th>569</th>\n",
       "      <td>14187</td>\n",
       "      <td>OP376</td>\n",
       "      <td>5</td>\n",
       "      <td>NaN</td>\n",
       "      <td>3</td>\n",
       "    </tr>\n",
       "    <tr>\n",
       "      <th>921</th>\n",
       "      <td>4824</td>\n",
       "      <td>OP83</td>\n",
       "      <td>10</td>\n",
       "      <td>NaN</td>\n",
       "      <td>3</td>\n",
       "    </tr>\n",
       "    <tr>\n",
       "      <th>1413</th>\n",
       "      <td>3815</td>\n",
       "      <td>OP83</td>\n",
       "      <td>1</td>\n",
       "      <td>NaN</td>\n",
       "      <td>3</td>\n",
       "    </tr>\n",
       "  </tbody>\n",
       "</table>\n",
       "</div>"
      ],
      "text/plain": [
       "     route_id agency_id route_short_name route_long_name  route_type\n",
       "568     50065     OP376               5A             NaN           3\n",
       "569     14187     OP376                5             NaN           3\n",
       "921      4824      OP83               10             NaN           3\n",
       "1413     3815      OP83                1             NaN           3"
      ]
     },
     "execution_count": 6,
     "metadata": {},
     "output_type": "execute_result"
    }
   ],
   "source": [
    "cow = feed.routes[\n",
    "    (feed.routes.agency_id.isin(agencies)) & (feed.routes.route_short_name.isin(routes))\n",
    "]\n",
    "cow"
   ]
  },
  {
   "cell_type": "code",
   "execution_count": 7,
   "id": "93e2e832-ac42-4c7c-b18b-a02e10158f58",
   "metadata": {},
   "outputs": [
    {
     "data": {
      "text/plain": [
       "['50065', '14187', '4824', '3815']"
      ]
     },
     "execution_count": 7,
     "metadata": {},
     "output_type": "execute_result"
    }
   ],
   "source": [
    "route_ids = cow.route_id.unique().tolist()\n",
    "route_ids"
   ]
  },
  {
   "cell_type": "markdown",
   "id": "6c9e3d98-ea48-4258-9bd1-6918dd5dcec5",
   "metadata": {},
   "source": [
    "## Map"
   ]
  },
  {
   "cell_type": "code",
   "execution_count": 8,
   "id": "7cc28381-fcca-474b-b713-f564ed1a86b7",
   "metadata": {},
   "outputs": [],
   "source": [
    "# feed.map_routes([\"14187\", \"4824\", \"3815\"], include_stops=True)"
   ]
  },
  {
   "cell_type": "markdown",
   "id": "65502c99-876e-4c88-9bc8-00b6e31c26fe",
   "metadata": {},
   "source": [
    "## Time series"
   ]
  },
  {
   "cell_type": "code",
   "execution_count": 9,
   "id": "0bd1267d-f2dd-493e-a4d3-2770f62ca471",
   "metadata": {},
   "outputs": [
    {
     "data": {
      "text/plain": [
       "['20221003', '20221004', '20221005', '20221006', '20221007']"
      ]
     },
     "execution_count": 9,
     "metadata": {},
     "output_type": "execute_result"
    }
   ],
   "source": [
    "dates = feed.get_first_week()[:5]\n",
    "dates"
   ]
  },
  {
   "cell_type": "code",
   "execution_count": 10,
   "id": "57e874d0-b150-46f3-be2a-db9eb9367cb7",
   "metadata": {},
   "outputs": [
    {
     "data": {
      "text/html": [
       "<div>\n",
       "<style scoped>\n",
       "    .dataframe tbody tr th:only-of-type {\n",
       "        vertical-align: middle;\n",
       "    }\n",
       "\n",
       "    .dataframe tbody tr th {\n",
       "        vertical-align: top;\n",
       "    }\n",
       "\n",
       "    .dataframe thead th {\n",
       "        text-align: right;\n",
       "    }\n",
       "</style>\n",
       "<table border=\"1\" class=\"dataframe\">\n",
       "  <thead>\n",
       "    <tr style=\"text-align: right;\">\n",
       "      <th></th>\n",
       "      <th>trip_id</th>\n",
       "      <th>route_id</th>\n",
       "      <th>route_short_name</th>\n",
       "      <th>route_type</th>\n",
       "      <th>direction_id</th>\n",
       "      <th>shape_id</th>\n",
       "      <th>num_stops</th>\n",
       "      <th>start_time</th>\n",
       "      <th>end_time</th>\n",
       "      <th>start_stop_id</th>\n",
       "      <th>end_stop_id</th>\n",
       "      <th>is_loop</th>\n",
       "      <th>duration</th>\n",
       "      <th>distance</th>\n",
       "      <th>speed</th>\n",
       "    </tr>\n",
       "  </thead>\n",
       "  <tbody>\n",
       "    <tr>\n",
       "      <th>512</th>\n",
       "      <td>VJ58713448d5f378462f099d9dce4881ea40b7e37f</td>\n",
       "      <td>14187</td>\n",
       "      <td>5</td>\n",
       "      <td>3</td>\n",
       "      <td>NaN</td>\n",
       "      <td>RPSP5bb474e47cb094f691802a7013ce93f78a4bd71f</td>\n",
       "      <td>35</td>\n",
       "      <td>04:50:00</td>\n",
       "      <td>05:21:00</td>\n",
       "      <td>340001230ERB</td>\n",
       "      <td>340000006R2</td>\n",
       "      <td>0</td>\n",
       "      <td>0.516667</td>\n",
       "      <td>NaN</td>\n",
       "      <td>NaN</td>\n",
       "    </tr>\n",
       "    <tr>\n",
       "      <th>1049</th>\n",
       "      <td>VJb6cffc25011e1e3fee18dcf6bfe52af29f5d693f</td>\n",
       "      <td>14187</td>\n",
       "      <td>5</td>\n",
       "      <td>3</td>\n",
       "      <td>NaN</td>\n",
       "      <td>RPSP5bb474e47cb094f691802a7013ce93f78a4bd71f</td>\n",
       "      <td>35</td>\n",
       "      <td>04:50:00</td>\n",
       "      <td>05:26:00</td>\n",
       "      <td>340001230ERB</td>\n",
       "      <td>340000006R2</td>\n",
       "      <td>0</td>\n",
       "      <td>0.600000</td>\n",
       "      <td>NaN</td>\n",
       "      <td>NaN</td>\n",
       "    </tr>\n",
       "  </tbody>\n",
       "</table>\n",
       "</div>"
      ],
      "text/plain": [
       "                                         trip_id route_id route_short_name  \\\n",
       "512   VJ58713448d5f378462f099d9dce4881ea40b7e37f    14187                5   \n",
       "1049  VJb6cffc25011e1e3fee18dcf6bfe52af29f5d693f    14187                5   \n",
       "\n",
       "      route_type  direction_id                                      shape_id  \\\n",
       "512            3           NaN  RPSP5bb474e47cb094f691802a7013ce93f78a4bd71f   \n",
       "1049           3           NaN  RPSP5bb474e47cb094f691802a7013ce93f78a4bd71f   \n",
       "\n",
       "      num_stops start_time  end_time start_stop_id  end_stop_id  is_loop  \\\n",
       "512          35   04:50:00  05:21:00  340001230ERB  340000006R2        0   \n",
       "1049         35   04:50:00  05:26:00  340001230ERB  340000006R2        0   \n",
       "\n",
       "      duration  distance  speed  \n",
       "512   0.516667       NaN    NaN  \n",
       "1049  0.600000       NaN    NaN  "
      ]
     },
     "execution_count": 10,
     "metadata": {},
     "output_type": "execute_result"
    }
   ],
   "source": [
    "trip_stats = feed.compute_trip_stats(route_ids=route_ids)\n",
    "trip_stats.head(2)"
   ]
  },
  {
   "cell_type": "code",
   "execution_count": 11,
   "id": "48532204-5f36-4c94-8a5d-17f53133a6db",
   "metadata": {},
   "outputs": [
    {
     "data": {
      "text/html": [
       "<div>\n",
       "<style scoped>\n",
       "    .dataframe tbody tr th:only-of-type {\n",
       "        vertical-align: middle;\n",
       "    }\n",
       "\n",
       "    .dataframe tbody tr th {\n",
       "        vertical-align: top;\n",
       "    }\n",
       "\n",
       "    .dataframe thead tr th {\n",
       "        text-align: left;\n",
       "    }\n",
       "\n",
       "    .dataframe thead tr:last-of-type th {\n",
       "        text-align: right;\n",
       "    }\n",
       "</style>\n",
       "<table border=\"1\" class=\"dataframe\">\n",
       "  <thead>\n",
       "    <tr>\n",
       "      <th>indicator</th>\n",
       "      <th colspan=\"4\" halign=\"left\">num_trip_ends</th>\n",
       "      <th colspan=\"4\" halign=\"left\">num_trip_starts</th>\n",
       "      <th colspan=\"2\" halign=\"left\">num_trips</th>\n",
       "      <th>...</th>\n",
       "      <th colspan=\"2\" halign=\"left\">service_distance</th>\n",
       "      <th colspan=\"4\" halign=\"left\">service_duration</th>\n",
       "      <th colspan=\"4\" halign=\"left\">service_speed</th>\n",
       "    </tr>\n",
       "    <tr>\n",
       "      <th>route_id</th>\n",
       "      <th>14187</th>\n",
       "      <th>3815</th>\n",
       "      <th>4824</th>\n",
       "      <th>50065</th>\n",
       "      <th>14187</th>\n",
       "      <th>3815</th>\n",
       "      <th>4824</th>\n",
       "      <th>50065</th>\n",
       "      <th>14187</th>\n",
       "      <th>3815</th>\n",
       "      <th>...</th>\n",
       "      <th>4824</th>\n",
       "      <th>50065</th>\n",
       "      <th>14187</th>\n",
       "      <th>3815</th>\n",
       "      <th>4824</th>\n",
       "      <th>50065</th>\n",
       "      <th>14187</th>\n",
       "      <th>3815</th>\n",
       "      <th>4824</th>\n",
       "      <th>50065</th>\n",
       "    </tr>\n",
       "    <tr>\n",
       "      <th>datetime</th>\n",
       "      <th></th>\n",
       "      <th></th>\n",
       "      <th></th>\n",
       "      <th></th>\n",
       "      <th></th>\n",
       "      <th></th>\n",
       "      <th></th>\n",
       "      <th></th>\n",
       "      <th></th>\n",
       "      <th></th>\n",
       "      <th></th>\n",
       "      <th></th>\n",
       "      <th></th>\n",
       "      <th></th>\n",
       "      <th></th>\n",
       "      <th></th>\n",
       "      <th></th>\n",
       "      <th></th>\n",
       "      <th></th>\n",
       "      <th></th>\n",
       "      <th></th>\n",
       "    </tr>\n",
       "  </thead>\n",
       "  <tbody>\n",
       "    <tr>\n",
       "      <th>2022-10-03 00:00:00</th>\n",
       "      <td>0</td>\n",
       "      <td>0</td>\n",
       "      <td>0</td>\n",
       "      <td>0</td>\n",
       "      <td>0</td>\n",
       "      <td>0</td>\n",
       "      <td>0</td>\n",
       "      <td>0</td>\n",
       "      <td>0</td>\n",
       "      <td>0</td>\n",
       "      <td>...</td>\n",
       "      <td>4.01355</td>\n",
       "      <td>0.0</td>\n",
       "      <td>0.366667</td>\n",
       "      <td>0.683333</td>\n",
       "      <td>0.25</td>\n",
       "      <td>0.15</td>\n",
       "      <td>15.893707</td>\n",
       "      <td>18.532127</td>\n",
       "      <td>16.0542</td>\n",
       "      <td>0.0</td>\n",
       "    </tr>\n",
       "    <tr>\n",
       "      <th>2022-10-03 01:00:00</th>\n",
       "      <td>0</td>\n",
       "      <td>0</td>\n",
       "      <td>0</td>\n",
       "      <td>0</td>\n",
       "      <td>0</td>\n",
       "      <td>0</td>\n",
       "      <td>0</td>\n",
       "      <td>0</td>\n",
       "      <td>0</td>\n",
       "      <td>0</td>\n",
       "      <td>...</td>\n",
       "      <td>0.00000</td>\n",
       "      <td>0.0</td>\n",
       "      <td>0.000000</td>\n",
       "      <td>0.000000</td>\n",
       "      <td>0.00</td>\n",
       "      <td>0.00</td>\n",
       "      <td>0.000000</td>\n",
       "      <td>0.000000</td>\n",
       "      <td>0.0000</td>\n",
       "      <td>0.0</td>\n",
       "    </tr>\n",
       "  </tbody>\n",
       "</table>\n",
       "<p>2 rows × 24 columns</p>\n",
       "</div>"
      ],
      "text/plain": [
       "indicator           num_trip_ends                 num_trip_starts            \\\n",
       "route_id                    14187 3815 4824 50065           14187 3815 4824   \n",
       "datetime                                                                      \n",
       "2022-10-03 00:00:00             0    0    0     0               0    0    0   \n",
       "2022-10-03 01:00:00             0    0    0     0               0    0    0   \n",
       "\n",
       "indicator                 num_trips       ... service_distance        \\\n",
       "route_id            50065     14187 3815  ...             4824 50065   \n",
       "datetime                                  ...                          \n",
       "2022-10-03 00:00:00     0         0    0  ...          4.01355   0.0   \n",
       "2022-10-03 01:00:00     0         0    0  ...          0.00000   0.0   \n",
       "\n",
       "indicator           service_duration                       service_speed  \\\n",
       "route_id                       14187      3815  4824 50065         14187   \n",
       "datetime                                                                   \n",
       "2022-10-03 00:00:00         0.366667  0.683333  0.25  0.15     15.893707   \n",
       "2022-10-03 01:00:00         0.000000  0.000000  0.00  0.00      0.000000   \n",
       "\n",
       "indicator                                      \n",
       "route_id                  3815     4824 50065  \n",
       "datetime                                       \n",
       "2022-10-03 00:00:00  18.532127  16.0542   0.0  \n",
       "2022-10-03 01:00:00   0.000000   0.0000   0.0  \n",
       "\n",
       "[2 rows x 24 columns]"
      ]
     },
     "execution_count": 11,
     "metadata": {},
     "output_type": "execute_result"
    }
   ],
   "source": [
    "rts = feed.compute_route_time_series(trip_stats, dates, freq=\"1H\")\n",
    "rts.head(2)"
   ]
  },
  {
   "cell_type": "code",
   "execution_count": 12,
   "id": "3e430948-6075-415e-8e73-c08fc622403c",
   "metadata": {},
   "outputs": [
    {
     "data": {
      "text/plain": [
       "<AxesSubplot: xlabel='datetime'>"
      ]
     },
     "execution_count": 12,
     "metadata": {},
     "output_type": "execute_result"
    },
    {
     "data": {
      "image/png": "[encoded data removed]",
      "text/plain": [
       "<Figure size 640x480 with 1 Axes>"
      ]
     },
     "metadata": {},
     "output_type": "display_data"
    }
   ],
   "source": [
    "trips = rts.loc[:, ([\"num_trips\"], route_ids)]\n",
    "sns.set()\n",
    "trips.columns = [rids[c[1]] for c in trips.columns]\n",
    "trips.groupby(trips.index.hour).mean().plot()"
   ]
  },
  {
   "cell_type": "code",
   "execution_count": null,
   "id": "05e8d212-1071-4442-9995-1781c6d845c2",
   "metadata": {},
   "outputs": [],
   "source": []
  }
 ],
 "metadata": {
  "kernelspec": {
   "display_name": "bus",
   "language": "python",
   "name": "bus"
  },
  "language_info": {
   "codemirror_mode": {
    "name": "ipython",
    "version": 3
   },
   "file_extension": ".py",
   "mimetype": "text/x-python",
   "name": "python",
   "nbconvert_exporter": "python",
   "pygments_lexer": "ipython3",
   "version": "3.9.13"
  }
 },
 "nbformat": 4,
 "nbformat_minor": 5
}
