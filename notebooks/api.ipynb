{
 "cells": [
  {
   "cell_type": "markdown",
   "id": "1eb16653-c202-4738-96e0-a125f8747226",
   "metadata": {},
   "source": [
    "# Basic DfT REST API"
   ]
  },
  {
   "cell_type": "markdown",
   "id": "6b3a8406-c5d4-4bb7-b7f9-0206812db4ba",
   "metadata": {},
   "source": [
    "- Inspo: https://www.tomforth.co.uk/toomanybuses/\n",
    "- Docs: https://data.bus-data.dft.gov.uk/api/buslocation-openapi/#/SIRI-VM%20Data%20feed/get_datafeed"
   ]
  },
  {
   "cell_type": "code",
   "execution_count": 1,
   "id": "06a60a17-0f37-4874-8150-1e4816d25be3",
   "metadata": {},
   "outputs": [],
   "source": [
    "import json\n",
    "import os\n",
    "from pathlib import Path\n",
    "\n",
    "import httpx\n",
    "import xmltodict\n",
    "from dotenv import load_dotenv\n",
    "from google.transit.gtfs_realtime_pb2 import FeedMessage\n",
    "from lxml import etree"
   ]
  },
  {
   "cell_type": "code",
   "execution_count": 2,
   "id": "f6e91b29-3e20-49c4-b86e-838bcadec8be",
   "metadata": {},
   "outputs": [
    {
     "data": {
      "text/plain": [
       "True"
      ]
     },
     "execution_count": 2,
     "metadata": {},
     "output_type": "execute_result"
    }
   ],
   "source": [
    "load_dotenv()"
   ]
  },
  {
   "cell_type": "markdown",
   "id": "7bfe01c6-78f3-4c93-b567-017ab73a49f9",
   "metadata": {},
   "source": [
    "## Overall settings"
   ]
  },
  {
   "cell_type": "code",
   "execution_count": 3,
   "id": "78ee2438-da54-42f3-8b8a-3e4dc8a94010",
   "metadata": {},
   "outputs": [],
   "source": [
    "base_url = \"https://data.bus-data.dft.gov.uk/api/v1/\"\n",
    "api_key = os.environ[\"API_KEY\"]\n",
    "adminArea = 340"
   ]
  },
  {
   "cell_type": "markdown",
   "id": "76205c5b-3a2d-4791-aa2f-d25f552a72b9",
   "metadata": {},
   "source": [
    "## Schedules\n",
    "Not actually useful to do this, easier to just bulk download the GTFS files"
   ]
  },
  {
   "cell_type": "code",
   "execution_count": 4,
   "id": "e4e5fc82-48e7-4e28-b84d-b0857555bd26",
   "metadata": {},
   "outputs": [],
   "source": [
    "client = httpx.Client(base_url=base_url, params={\"api_key\": api_key})"
   ]
  },
  {
   "cell_type": "code",
   "execution_count": 5,
   "id": "2af1617c-3839-40cf-ad99-7eca55b0080f",
   "metadata": {},
   "outputs": [
    {
     "data": {
      "text/plain": [
       "200"
      ]
     },
     "execution_count": 5,
     "metadata": {},
     "output_type": "execute_result"
    }
   ],
   "source": [
    "r = client.get(\n",
    "    \"dataset/\", params={\"adminArea\": adminArea, \"limit\": 500, \"search\": \"Oxford\"}\n",
    ")\n",
    "r.status_code"
   ]
  },
  {
   "cell_type": "code",
   "execution_count": 6,
   "id": "4e5245c4-f52b-473a-ab01-86266cea6a51",
   "metadata": {},
   "outputs": [
    {
     "data": {
      "text/plain": [
       "221"
      ]
     },
     "execution_count": 6,
     "metadata": {},
     "output_type": "execute_result"
    }
   ],
   "source": [
    "results = r.json()[\"results\"]\n",
    "len(results)"
   ]
  },
  {
   "cell_type": "code",
   "execution_count": 7,
   "id": "81ccf534-edf2-4cdc-a91d-7d4e7cb3c47c",
   "metadata": {},
   "outputs": [
    {
     "data": {
      "text/plain": [
       "(265,\n",
       " 'Arriva UK Bus',\n",
       " 'Arriva UK Bus_High Wycombe_Amersham_20200601',\n",
       " ['1', '1A', '30', '31', '32', '33', '37', '37A', '41', '48', '800', '850'],\n",
       " 'https://data.bus-data.dft.gov.uk/timetable/dataset/265/download/')"
      ]
     },
     "execution_count": 7,
     "metadata": {},
     "output_type": "execute_result"
    }
   ],
   "source": [
    "r = results[7]\n",
    "r[\"id\"], r[\"operatorName\"], r[\"name\"], r[\"lines\"], r[\"url\"]"
   ]
  },
  {
   "cell_type": "code",
   "execution_count": 8,
   "id": "4b8d1af1-5088-4ff2-9dd4-c3ad03e8bcf2",
   "metadata": {},
   "outputs": [],
   "source": [
    "# results[175]"
   ]
  },
  {
   "cell_type": "code",
   "execution_count": 9,
   "id": "b20463ae-61ae-48fd-b078-5c75b4ef62fc",
   "metadata": {},
   "outputs": [],
   "source": [
    "# sorted((r[\"name\"], i) for i, r in enumerate(results))"
   ]
  },
  {
   "cell_type": "markdown",
   "id": "1400401d-f2c0-4a99-8902-1d0e4a48b93e",
   "metadata": {},
   "source": [
    "## Location\n",
    "Rather use the bods-client Python library"
   ]
  },
  {
   "cell_type": "code",
   "execution_count": 10,
   "id": "ca26c73c-efde-46a0-8004-a8cddf7956a8",
   "metadata": {},
   "outputs": [],
   "source": [
    "client = httpx.Client(base_url=base_url, params={\"api_key\": api_key})"
   ]
  },
  {
   "cell_type": "code",
   "execution_count": 11,
   "id": "eccb189f-e0dc-4c59-a7ec-76f35b049c0c",
   "metadata": {},
   "outputs": [],
   "source": [
    "def get_activity_list(line_ref, op_ref) -> list[dict]:\n",
    "    r = client.get(\"datafeed/\", params={\"lineRef\": line_ref, \"operatorRef\": op_ref})\n",
    "    assert r.status_code == 200\n",
    "    d = xmltodict.parse(r.text)\n",
    "    try:\n",
    "        va = d[\"Siri\"][\"ServiceDelivery\"][\"VehicleMonitoringDelivery\"][\"VehicleActivity\"]\n",
    "        # print(json.dumps(va, indent=2))\n",
    "        return list(va)\n",
    "    except KeyError:\n",
    "        return []"
   ]
  },
  {
   "cell_type": "code",
   "execution_count": 12,
   "id": "8bde2476-b832-4404-b0bc-253fefdc7f2e",
   "metadata": {},
   "outputs": [
    {
     "data": {
      "text/plain": [
       "23"
      ]
     },
     "execution_count": 12,
     "metadata": {},
     "output_type": "execute_result"
    }
   ],
   "source": [
    "lines = (\n",
    "    get_activity_list(\"5\", \"OXBC\")\n",
    "    + get_activity_list(\"1\", \"SCOX\")\n",
    "    + get_activity_list(\"10\", \"SCOX\")\n",
    ")\n",
    "len(lines)"
   ]
  },
  {
   "cell_type": "code",
   "execution_count": 13,
   "id": "35379a7a-0bcb-40a4-8662-fbdada0071b0",
   "metadata": {},
   "outputs": [],
   "source": [
    "# lines[:2]"
   ]
  },
  {
   "cell_type": "markdown",
   "id": "a7dccfad-f4fd-403b-9be0-ba2bb38e4f44",
   "metadata": {},
   "source": [
    "## Location GTFS"
   ]
  },
  {
   "cell_type": "code",
   "execution_count": 14,
   "id": "99533ebd-f036-4195-a26f-8d16fe13c8b7",
   "metadata": {},
   "outputs": [],
   "source": [
    "client = httpx.Client(base_url=base_url, params={\"api_key\": api_key})\n",
    "r = client.get(\"gtfsrtdatafeed/\", params={\"routeId\": \"3815\"})\n",
    "assert r.status_code == 200"
   ]
  },
  {
   "cell_type": "code",
   "execution_count": 15,
   "id": "8a63ce75-1002-4910-9142-fcd7b981e8ce",
   "metadata": {},
   "outputs": [
    {
     "data": {
      "text/plain": [
       "Headers([('date', 'Sat, 15 Oct 2022 16:30:15 GMT'), ('content-type', 'application/bin; charset=utf-8'), ('content-length', '1142'), ('connection', 'keep-alive'), ('set-cookie', 'AWSALB=gOvbFeOHb8CPLmWhY+JftpVibCn2grwKqJwBprl/AlCCfJjQLGDCgIMSFkLRDZHrVb7HUKsPgwLO8RugowkAdfSUCT4XCnLXr1b/qDlGTlN7KzM1J8EimjLBa9NI; Expires=Sat, 22 Oct 2022 16:30:15 GMT; Path=/'), ('set-cookie', 'AWSALBCORS=gOvbFeOHb8CPLmWhY+JftpVibCn2grwKqJwBprl/AlCCfJjQLGDCgIMSFkLRDZHrVb7HUKsPgwLO8RugowkAdfSUCT4XCnLXr1b/qDlGTlN7KzM1J8EimjLBa9NI; Expires=Sat, 22 Oct 2022 16:30:15 GMT; Path=/; SameSite=None; Secure'), ('server', 'gunicorn/20.0.4'), ('vary', 'Accept, Cookie, Origin'), ('allow', 'GET, HEAD, OPTIONS'), ('x-frame-options', 'DENY'), ('strict-transport-security', 'max-age=31536000'), ('referrer-policy', 'same-origin')])"
      ]
     },
     "execution_count": 15,
     "metadata": {},
     "output_type": "execute_result"
    }
   ],
   "source": [
    "r.headers"
   ]
  },
  {
   "cell_type": "code",
   "execution_count": 16,
   "id": "3fe9b635-d1ff-46a4-a3a9-b2ee5855c68d",
   "metadata": {},
   "outputs": [
    {
     "data": {
      "text/plain": [
       "1142"
      ]
     },
     "execution_count": 16,
     "metadata": {},
     "output_type": "execute_result"
    }
   ],
   "source": [
    "message = FeedMessage()\n",
    "message.ParseFromString(r.content)"
   ]
  },
  {
   "cell_type": "code",
   "execution_count": 17,
   "id": "769ca15a-be26-442a-9054-946cce90ffa8",
   "metadata": {},
   "outputs": [
    {
     "data": {
      "text/plain": [
       "id: \"8931724906858233862\"\n",
       "vehicle {\n",
       "  trip {\n",
       "    trip_id: \"VJab54fd742791dc3f118e1ed04c4259a0ae927c42\"\n",
       "    start_time: \"15:38:00\"\n",
       "    start_date: \"20221015\"\n",
       "    schedule_relationship: SCHEDULED\n",
       "    route_id: \"3815\"\n",
       "  }\n",
       "  position {\n",
       "    latitude: 51.7524299621582\n",
       "    longitude: -1.2628819942474365\n",
       "    bearing: 306.0\n",
       "  }\n",
       "  current_stop_sequence: 33\n",
       "  current_status: IN_TRANSIT_TO\n",
       "  timestamp: 1665851368\n",
       "  vehicle {\n",
       "    id: \"SCOX-10439\"\n",
       "  }\n",
       "}"
      ]
     },
     "execution_count": 17,
     "metadata": {},
     "output_type": "execute_result"
    }
   ],
   "source": [
    "message.entity[0]"
   ]
  },
  {
   "cell_type": "markdown",
   "id": "04f09f9c-68e6-4024-81e5-cad9cb227098",
   "metadata": {},
   "source": [
    "## Load externally downloaded pb2 file"
   ]
  },
  {
   "cell_type": "code",
   "execution_count": 18,
   "id": "bead297d-7b22-4f14-940b-a35d2d1343d2",
   "metadata": {},
   "outputs": [
    {
     "data": {
      "text/plain": [
       "3514"
      ]
     },
     "execution_count": 18,
     "metadata": {},
     "output_type": "execute_result"
    }
   ],
   "source": [
    "path = next(Path(\"../data\").glob(\"*.pb2\"))\n",
    "message = FeedMessage()\n",
    "message.ParseFromString(path.read_bytes())"
   ]
  },
  {
   "cell_type": "code",
   "execution_count": 19,
   "id": "83ed72e5-88c9-4d54-a97a-dcc79140120e",
   "metadata": {},
   "outputs": [
    {
     "data": {
      "text/plain": [
       "['50065',\n",
       " '50065',\n",
       " '3815',\n",
       " '3815',\n",
       " '4824',\n",
       " '3815',\n",
       " '14187',\n",
       " '4824',\n",
       " '14187',\n",
       " '14187',\n",
       " '14187',\n",
       " '14187',\n",
       " '3815',\n",
       " '4824',\n",
       " '4824',\n",
       " '3815',\n",
       " '4824',\n",
       " '4824',\n",
       " '3815',\n",
       " '4824',\n",
       " '4824',\n",
       " '3815',\n",
       " '3815',\n",
       " '4824',\n",
       " '50065']"
      ]
     },
     "execution_count": 19,
     "metadata": {},
     "output_type": "execute_result"
    }
   ],
   "source": [
    "[e.vehicle.trip.route_id for e in message.entity]"
   ]
  },
  {
   "cell_type": "code",
   "execution_count": null,
   "id": "fe1a75d2-d9e0-4d4a-8085-c40370995032",
   "metadata": {},
   "outputs": [],
   "source": []
  }
 ],
 "metadata": {
  "kernelspec": {
   "display_name": "bus",
   "language": "python",
   "name": "bus"
  },
  "language_info": {
   "codemirror_mode": {
    "name": "ipython",
    "version": 3
   },
   "file_extension": ".py",
   "mimetype": "text/x-python",
   "name": "python",
   "nbconvert_exporter": "python",
   "pygments_lexer": "ipython3",
   "version": "3.9.13"
  }
 },
 "nbformat": 4,
 "nbformat_minor": 5
}
