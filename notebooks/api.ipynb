{
 "cells": [
  {
   "cell_type": "markdown",
   "id": "1eb16653-c202-4738-96e0-a125f8747226",
   "metadata": {},
   "source": [
    "# Basic DfT REST API"
   ]
  },
  {
   "cell_type": "markdown",
   "id": "6b3a8406-c5d4-4bb7-b7f9-0206812db4ba",
   "metadata": {},
   "source": [
    "- Inspo: https://www.tomforth.co.uk/toomanybuses/\n",
    "- Docs: https://data.bus-data.dft.gov.uk/api/buslocation-openapi/#/SIRI-VM%20Data%20feed/get_datafeed"
   ]
  },
  {
   "cell_type": "code",
   "execution_count": 1,
   "id": "06a60a17-0f37-4874-8150-1e4816d25be3",
   "metadata": {},
   "outputs": [],
   "source": [
    "import json\n",
    "import os\n",
    "\n",
    "import httpx\n",
    "import xmltodict\n",
    "from dotenv import load_dotenv\n",
    "from lxml import etree"
   ]
  },
  {
   "cell_type": "code",
   "execution_count": 2,
   "id": "f6e91b29-3e20-49c4-b86e-838bcadec8be",
   "metadata": {},
   "outputs": [
    {
     "data": {
      "text/plain": [
       "True"
      ]
     },
     "execution_count": 2,
     "metadata": {},
     "output_type": "execute_result"
    }
   ],
   "source": [
    "load_dotenv()"
   ]
  },
  {
   "cell_type": "markdown",
   "id": "7bfe01c6-78f3-4c93-b567-017ab73a49f9",
   "metadata": {},
   "source": [
    "## Overall settings"
   ]
  },
  {
   "cell_type": "code",
   "execution_count": 3,
   "id": "78ee2438-da54-42f3-8b8a-3e4dc8a94010",
   "metadata": {},
   "outputs": [],
   "source": [
    "base_url = \"https://data.bus-data.dft.gov.uk/api/v1/\"\n",
    "api_key = os.environ[\"API_KEY\"]\n",
    "adminArea = 340"
   ]
  },
  {
   "cell_type": "markdown",
   "id": "76205c5b-3a2d-4791-aa2f-d25f552a72b9",
   "metadata": {},
   "source": [
    "## Schedules\n",
    "Not actually useful to do this, easier to just bulk download the GTFS files"
   ]
  },
  {
   "cell_type": "code",
   "execution_count": 4,
   "id": "e4e5fc82-48e7-4e28-b84d-b0857555bd26",
   "metadata": {},
   "outputs": [],
   "source": [
    "client = httpx.Client(base_url=base_url, params={\"api_key\": api_key})"
   ]
  },
  {
   "cell_type": "code",
   "execution_count": 5,
   "id": "2af1617c-3839-40cf-ad99-7eca55b0080f",
   "metadata": {},
   "outputs": [
    {
     "data": {
      "text/plain": [
       "200"
      ]
     },
     "execution_count": 5,
     "metadata": {},
     "output_type": "execute_result"
    }
   ],
   "source": [
    "r = client.get(\n",
    "    \"dataset/\", params={\"adminArea\": adminArea, \"limit\": 500, \"search\": \"Oxford\"}\n",
    ")\n",
    "r.status_code"
   ]
  },
  {
   "cell_type": "code",
   "execution_count": 6,
   "id": "4e5245c4-f52b-473a-ab01-86266cea6a51",
   "metadata": {},
   "outputs": [
    {
     "data": {
      "text/plain": [
       "221"
      ]
     },
     "execution_count": 6,
     "metadata": {},
     "output_type": "execute_result"
    }
   ],
   "source": [
    "results = r.json()[\"results\"]\n",
    "len(results)"
   ]
  },
  {
   "cell_type": "code",
   "execution_count": 7,
   "id": "81ccf534-edf2-4cdc-a91d-7d4e7cb3c47c",
   "metadata": {},
   "outputs": [
    {
     "data": {
      "text/plain": [
       "(265,\n",
       " 'Arriva UK Bus',\n",
       " 'Arriva UK Bus_High Wycombe_Amersham_20200601',\n",
       " ['1', '1A', '30', '31', '32', '33', '37', '37A', '41', '48', '800', '850'],\n",
       " 'https://data.bus-data.dft.gov.uk/timetable/dataset/265/download/')"
      ]
     },
     "execution_count": 7,
     "metadata": {},
     "output_type": "execute_result"
    }
   ],
   "source": [
    "r = results[7]\n",
    "r[\"id\"], r[\"operatorName\"], r[\"name\"], r[\"lines\"], r[\"url\"]"
   ]
  },
  {
   "cell_type": "code",
   "execution_count": 8,
   "id": "4b8d1af1-5088-4ff2-9dd4-c3ad03e8bcf2",
   "metadata": {},
   "outputs": [],
   "source": [
    "# results[175]"
   ]
  },
  {
   "cell_type": "code",
   "execution_count": 9,
   "id": "b20463ae-61ae-48fd-b078-5c75b4ef62fc",
   "metadata": {},
   "outputs": [],
   "source": [
    "# sorted((r[\"name\"], i) for i, r in enumerate(results))"
   ]
  },
  {
   "cell_type": "markdown",
   "id": "1400401d-f2c0-4a99-8902-1d0e4a48b93e",
   "metadata": {},
   "source": [
    "## Location\n",
    "Rather use the bods-client Python library"
   ]
  },
  {
   "cell_type": "code",
   "execution_count": 10,
   "id": "ca26c73c-efde-46a0-8004-a8cddf7956a8",
   "metadata": {},
   "outputs": [],
   "source": [
    "client = httpx.Client(base_url=base_url, params={\"api_key\": api_key})"
   ]
  },
  {
   "cell_type": "code",
   "execution_count": 13,
   "id": "eccb189f-e0dc-4c59-a7ec-76f35b049c0c",
   "metadata": {},
   "outputs": [],
   "source": [
    "def get_activity_list(line_ref, op_ref) -> list[dict]:\n",
    "    r = client.get(\"datafeed/\", params={\"lineRef\": line_ref, \"operatorRef\": op_ref})\n",
    "    assert r.status_code == 200\n",
    "    d = xmltodict.parse(r.text)\n",
    "    va = d[\"Siri\"][\"ServiceDelivery\"][\"VehicleMonitoringDelivery\"][\"VehicleActivity\"]\n",
    "    # print(json.dumps(va, indent=2))\n",
    "    return va"
   ]
  },
  {
   "cell_type": "code",
   "execution_count": 14,
   "id": "8bde2476-b832-4404-b0bc-253fefdc7f2e",
   "metadata": {},
   "outputs": [
    {
     "data": {
      "text/plain": [
       "23"
      ]
     },
     "execution_count": 14,
     "metadata": {},
     "output_type": "execute_result"
    }
   ],
   "source": [
    "lines = (\n",
    "    get_activity_list(\"5\", \"OXBC\")\n",
    "    + get_activity_list(\"1\", \"SCOX\")\n",
    "    + get_activity_list(\"10\", \"SCOX\")\n",
    ")\n",
    "len(lines)"
   ]
  },
  {
   "cell_type": "code",
   "execution_count": 15,
   "id": "35379a7a-0bcb-40a4-8662-fbdada0071b0",
   "metadata": {},
   "outputs": [
    {
     "data": {
      "text/plain": [
       "[{'RecordedAtTime': '2022-10-15T08:37:25+00:00',\n",
       "  'ItemIdentifier': 'e206b5ee-0dc8-4b92-9de9-143de202f740',\n",
       "  'ValidUntilTime': '2022-10-15T08:42:50.588232',\n",
       "  'MonitoredVehicleJourney': {'LineRef': '5',\n",
       "   'DirectionRef': 'inbound',\n",
       "   'FramedVehicleJourneyRef': {'DataFrameRef': '2022-10-15',\n",
       "    'DatedVehicleJourneyRef': '5043'},\n",
       "   'PublishedLineName': '5',\n",
       "   'OperatorRef': 'OXBC',\n",
       "   'OriginRef': '340001230ERB',\n",
       "   'OriginName': 'Blackbird_Leys__Sandy_Lane_West',\n",
       "   'DestinationRef': '340000006R2',\n",
       "   'DestinationName': 'Oxford_City_Centre__Railway_Station',\n",
       "   'OriginAimedDepartureTime': '2022-10-15T09:20:00+00:00',\n",
       "   'DestinationAimedArrivalTime': '2022-10-15T10:09:00+00:00',\n",
       "   'VehicleLocation': {'Longitude': '-1.204361', 'Latitude': '51.718875'},\n",
       "   'Bearing': '290.0',\n",
       "   'Occupancy': 'seatsAvailable',\n",
       "   'BlockRef': '13512',\n",
       "   'VehicleRef': '657'},\n",
       "  'Extensions': {'VehicleJourney': {'Operational': {'TicketMachine': {'TicketMachineServiceCode': '5',\n",
       "      'JourneyCode': '0920'}},\n",
       "    'VehicleUniqueId': '657',\n",
       "    'SeatedOccupancy': '9',\n",
       "    'SeatedCapacity': '74',\n",
       "    'WheelchairOccupancy': '0',\n",
       "    'WheelchairCapacity': '0',\n",
       "    'OccupancyThresholds': '50,100'}}},\n",
       " {'RecordedAtTime': '2022-10-15T08:37:30+00:00',\n",
       "  'ItemIdentifier': '386ae1d1-87af-4d6d-90a0-667e8f3355ef',\n",
       "  'ValidUntilTime': '2022-10-15T08:42:50.588567',\n",
       "  'MonitoredVehicleJourney': {'LineRef': '5',\n",
       "   'DirectionRef': 'inbound',\n",
       "   'FramedVehicleJourneyRef': {'DataFrameRef': '2022-10-15',\n",
       "    'DatedVehicleJourneyRef': '5045'},\n",
       "   'PublishedLineName': '5',\n",
       "   'OperatorRef': 'OXBC',\n",
       "   'OriginRef': '340001230ERB',\n",
       "   'OriginName': 'Blackbird_Leys__Sandy_Lane_West',\n",
       "   'DestinationRef': '340000006R2',\n",
       "   'DestinationName': 'Oxford_City_Centre__Railway_Station',\n",
       "   'OriginAimedDepartureTime': '2022-10-15T09:31:00+00:00',\n",
       "   'DestinationAimedArrivalTime': '2022-10-15T10:20:00+00:00',\n",
       "   'VehicleLocation': {'Longitude': '-1.193555', 'Latitude': '51.722391'},\n",
       "   'Occupancy': 'seatsAvailable',\n",
       "   'BlockRef': '13691',\n",
       "   'VehicleRef': '656'},\n",
       "  'Extensions': {'VehicleJourney': {'Operational': {'TicketMachine': {'TicketMachineServiceCode': '5',\n",
       "      'JourneyCode': '0931'}},\n",
       "    'VehicleUniqueId': '656',\n",
       "    'SeatedOccupancy': '1',\n",
       "    'SeatedCapacity': '74',\n",
       "    'WheelchairOccupancy': '0',\n",
       "    'WheelchairCapacity': '0',\n",
       "    'OccupancyThresholds': '50,100'}}}]"
      ]
     },
     "execution_count": 15,
     "metadata": {},
     "output_type": "execute_result"
    }
   ],
   "source": [
    "lines[:2]"
   ]
  },
  {
   "cell_type": "code",
   "execution_count": null,
   "id": "6b055b21-66d6-430c-a425-8b233bbbb76b",
   "metadata": {},
   "outputs": [],
   "source": []
  },
  {
   "cell_type": "code",
   "execution_count": null,
   "id": "99533ebd-f036-4195-a26f-8d16fe13c8b7",
   "metadata": {},
   "outputs": [],
   "source": []
  }
 ],
 "metadata": {
  "kernelspec": {
   "display_name": "bus",
   "language": "python",
   "name": "bus"
  },
  "language_info": {
   "codemirror_mode": {
    "name": "ipython",
    "version": 3
   },
   "file_extension": ".py",
   "mimetype": "text/x-python",
   "name": "python",
   "nbconvert_exporter": "python",
   "pygments_lexer": "ipython3",
   "version": "3.9.13"
  }
 },
 "nbformat": 4,
 "nbformat_minor": 5
}
