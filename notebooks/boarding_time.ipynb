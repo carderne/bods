{
 "cells": [
  {
   "cell_type": "markdown",
   "id": "583f19e8-b15a-40f8-bde1-c0be436c4de5",
   "metadata": {},
   "source": [
    "# How much time buses spend at stops"
   ]
  },
  {
   "cell_type": "markdown",
   "id": "3e042d65-86fa-4326-893b-ac9396ed4384",
   "metadata": {},
   "source": [
    "## Imports"
   ]
  },
  {
   "cell_type": "code",
   "execution_count": null,
   "id": "8fb139c7-edaf-4776-8ade-02f2761d7752",
   "metadata": {},
   "outputs": [],
   "source": [
    "import warnings\n",
    "from datetime import datetime\n",
    "from pathlib import Path\n",
    "\n",
    "import geopandas as gpd\n",
    "import gtfs_kit as gk\n",
    "import pandas as pd\n",
    "from google.transit.gtfs_realtime_pb2 import FeedMessage"
   ]
  },
  {
   "cell_type": "markdown",
   "id": "401eb91a-f077-4f38-9b39-041bec374201",
   "metadata": {},
   "source": [
    "## General settings"
   ]
  },
  {
   "cell_type": "code",
   "execution_count": null,
   "id": "39e4c223-f9b9-4e3f-86e9-bd5307e010da",
   "metadata": {},
   "outputs": [],
   "source": [
    "# pb2_path = Path(\"../data\")\n",
    "parquet_path = Path(\"../parquet\")\n",
    "sched_path = \"../data/itm_south_east_gtfs.zip\""
   ]
  },
  {
   "cell_type": "code",
   "execution_count": null,
   "id": "c938b514-3a97-4a88-860c-db08ca898a66",
   "metadata": {},
   "outputs": [],
   "source": [
    "df = pd.concat(gpd.read_parquet(p) for p in sorted(parquet_path.iterdir()))\n",
    "df.head()"
   ]
  },
  {
   "cell_type": "code",
   "execution_count": null,
   "id": "10f3c225-3792-4af2-8833-3c49fbe2171c",
   "metadata": {},
   "outputs": [],
   "source": [
    "rids = {\n",
    "    \"1\": \"3815\",\n",
    "    \"10\": \"4824\",\n",
    "    \"5\": \"14187\",\n",
    "    \"5A\": \"50065\",\n",
    "}\n",
    "df = df.loc[df.route_id.isin(rids.values())]"
   ]
  },
  {
   "cell_type": "markdown",
   "id": "f754113a-8232-4e3b-b350-9c0141d505ce",
   "metadata": {},
   "source": [
    "## Get bus stop location data"
   ]
  },
  {
   "cell_type": "code",
   "execution_count": null,
   "id": "f0b6df85-b302-4a2a-9751-df9cb49383a9",
   "metadata": {},
   "outputs": [],
   "source": [
    "with warnings.catch_warnings():\n",
    "    warnings.simplefilter(\"ignore\")\n",
    "    fd = gk.read_feed(sched_path, dist_units=\"mi\")"
   ]
  },
  {
   "cell_type": "code",
   "execution_count": null,
   "id": "24d6d614-e86b-4d2e-abe4-5c5f0da4db13",
   "metadata": {
    "tags": []
   },
   "outputs": [],
   "source": [
    "tid_trips = fd.trips.loc[fd.trips.trip_id.isin(df.trip_id.unique())]\n",
    "tid_trips.head(2)  # not used but has trip direction!"
   ]
  },
  {
   "cell_type": "code",
   "execution_count": null,
   "id": "7a54ed6e-860f-4639-96e5-f96c61b2fd9b",
   "metadata": {
    "tags": []
   },
   "outputs": [],
   "source": [
    "rel_stops = fd.stop_times.loc[fd.stop_times.trip_id.isin(df.trip_id)]\n",
    "rel_stops.head(3)"
   ]
  },
  {
   "cell_type": "code",
   "execution_count": null,
   "id": "7f6e14a9-4068-4d50-8497-d41f3674b943",
   "metadata": {
    "tags": []
   },
   "outputs": [],
   "source": [
    "stops = (\n",
    "    fd.stops.loc[fd.stops.stop_id.isin(rel_stops.stop_id.unique())]\n",
    "    .assign(\n",
    "        geometry=lambda x: gpd.points_from_xy(x=x.stop_lon, y=x.stop_lat)\n",
    "    )\n",
    "    .drop([\"stop_lon\", \"stop_lat\"], axis=1)\n",
    "    .pipe(gpd.GeoDataFrame, crs=4326)\n",
    ")\n",
    "stops.geometry = stops.to_crs(epsg=3857).buffer(30).to_crs(epsg=4326)\n",
    "stops.head()"
   ]
  },
  {
   "cell_type": "markdown",
   "id": "572fa299-32c1-40ec-9946-d527e6e1f7f2",
   "metadata": {},
   "source": [
    "## And compare them!"
   ]
  },
  {
   "cell_type": "code",
   "execution_count": null,
   "id": "a0905821-4b47-477b-b986-404cb620deaa",
   "metadata": {},
   "outputs": [],
   "source": [
    "# df_map = pd.concat([df[[\"geometry\"]].assign(tp=0), stops[[\"geometry\"]].assign(tp=1)])\n",
    "# df_map.explore(tiles=\"CartoDB positron\", cmap=\"viridis\", column=\"tp\")"
   ]
  },
  {
   "cell_type": "code",
   "execution_count": null,
   "id": "f0d9c70f-b83a-48c3-983d-d99105e24def",
   "metadata": {},
   "outputs": [],
   "source": [
    "def filter_relevant_stops(row):\n",
    "    return (\n",
    "        row.stop_id in rel_stops.loc[rel_stops.trip_id == row.trip_id].stop_id.unique()\n",
    "    )"
   ]
  },
  {
   "cell_type": "code",
   "execution_count": null,
   "id": "fe60fc10-e55f-4b58-b818-c8298ad40752",
   "metadata": {},
   "outputs": [],
   "source": [
    "jnd = (\n",
    "    df.sjoin(stops, how=\"left\", predicate=\"within\")\n",
    "    .dropna(subset=\"index_right\")\n",
    "    .assign(keep=lambda x: x.apply(filter_relevant_stops, axis=1))\n",
    "    .loc[lambda x: x.keep]\n",
    ")\n",
    "assert len(jnd.loc[jnd.duplicated([\"trip_id\", \"timestamp\"])]) == 0\n",
    "jnd = jnd.assign(\n",
    "    cum_stop=jnd.groupby([\"trip_id\", \"current_stop\", \"stop_id\"]).cumcount()\n",
    ")\n",
    "jnd.head()"
   ]
  },
  {
   "cell_type": "code",
   "execution_count": null,
   "id": "9d0e0831-1110-41cd-be25-5536b37ac7ce",
   "metadata": {},
   "outputs": [],
   "source": [
    "cols = [\n",
    "    \"current_stop\",\n",
    "    \"current_status\",\n",
    "    \"timestamp\",\n",
    "    \"stop_id\",\n",
    "    \"stop_name\",\n",
    "    \"cum_stop\",\n",
    "]\n",
    "long_stops = jnd.loc[jnd.stop_id.isin(jnd.loc[jnd.cum_stop >= 1].stop_id.unique())]\n",
    "long_stops = long_stops.sort_values(by=[\"trip_id\", \"current_stop\"])\n",
    "long_stops[cols]"
   ]
  },
  {
   "cell_type": "code",
   "execution_count": null,
   "id": "68eeef67-e579-4596-9411-00ca15f53176",
   "metadata": {},
   "outputs": [],
   "source": [
    "def diff_calc(x):\n",
    "    return x.iloc[-1] - x.iloc[0]"
   ]
  },
  {
   "cell_type": "code",
   "execution_count": null,
   "id": "454df717-0890-40dd-9198-4c5c32852d57",
   "metadata": {},
   "outputs": [],
   "source": [
    "stop_time = pd.DataFrame(\n",
    "    jnd.groupby([\"route_id\", \"trip_id\", \"stop_id\", \"stop_name\"])\n",
    "    .timestamp.agg(diff_calc)\n",
    "    .astype(\"timedelta64[s]\")\n",
    ")\n",
    "stop_time.sort_values(by=\"timestamp\", ascending=False)"
   ]
  },
  {
   "cell_type": "code",
   "execution_count": null,
   "id": "00f7adf1-5f70-4502-aa32-8b63a3127f88",
   "metadata": {},
   "outputs": [],
   "source": []
  }
 ],
 "metadata": {
  "kernelspec": {
   "display_name": "bus",
   "language": "python",
   "name": "bus"
  },
  "language_info": {
   "codemirror_mode": {
    "name": "ipython",
    "version": 3
   },
   "file_extension": ".py",
   "mimetype": "text/x-python",
   "name": "python",
   "nbconvert_exporter": "python",
   "pygments_lexer": "ipython3",
   "version": "3.9.13"
  }
 },
 "nbformat": 4,
 "nbformat_minor": 5
}
